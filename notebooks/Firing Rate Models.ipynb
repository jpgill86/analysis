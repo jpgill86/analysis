{
 "cells": [
  {
   "cell_type": "markdown",
   "metadata": {},
   "source": [
    "# Import Packages"
   ]
  },
  {
   "cell_type": "code",
   "execution_count": null,
   "metadata": {},
   "outputs": [],
   "source": [
    "import os\n",
    "import numpy as np\n",
    "import matplotlib.pyplot as plt\n",
    "import quantities as pq\n",
    "import neo\n",
    "from neurotic._elephant_tools import CausalAlphaKernel, instantaneous_rate\n",
    "\n",
    "pq.markup.config.use_unicode = True  # allow symbols like mu for micro in output\n",
    "pq.mN = pq.UnitQuantity('millinewton', pq.N/1e3, symbol = 'mN');  # define millinewton"
   ]
  },
  {
   "cell_type": "code",
   "execution_count": null,
   "metadata": {},
   "outputs": [],
   "source": [
    "# make figures interactive and open in a separate window\n",
    "# %matplotlib qt\n",
    "\n",
    "# make figures interactive and inline\n",
    "%matplotlib notebook\n",
    "\n",
    "# make figures non-interactive and inline\n",
    "# %matplotlib inline"
   ]
  },
  {
   "cell_type": "code",
   "execution_count": null,
   "metadata": {},
   "outputs": [],
   "source": [
    "colors = {\n",
    "    'B38':       '#EFBF46', # yellow\n",
    "    'I2':        '#DC5151', # red\n",
    "    'B8a/b':     '#DA8BC3', # pink\n",
    "    'B6/B9':     '#64B5CD', # light blue\n",
    "    'B3/B6/B9':  '#5A9BC5', # medium blue\n",
    "    'B3':        '#4F80BD', # dark blue\n",
    "    'B4/B5':     '#00A86B', # jade green\n",
    "    'Force':     '0.7',     # light gray\n",
    "    'Model':     '0.2',     # dark gray\n",
    "}"
   ]
  },
  {
   "cell_type": "markdown",
   "metadata": {},
   "source": [
    "# Load Data"
   ]
  },
  {
   "cell_type": "code",
   "execution_count": null,
   "metadata": {},
   "outputs": [],
   "source": [
    "directory = 'spikes-firing-rates-and-forces'\n",
    "\n",
    "# filename = 'JG07 Tape nori 0.mat'\n",
    "# filename = 'JG08 Tape nori 0.mat'\n",
    "filename = 'JG08 Tape nori 1.mat'\n",
    "# filename = 'JG08 Tape nori 1 superset.mat'  # this file is missing spikes for several swallows\n",
    "# filename = 'JG08 Tape nori 2.mat'\n",
    "# filename = 'JG11 Tape nori 0.mat'\n",
    "# filename = 'JG12 Tape nori 0.mat'\n",
    "# filename = 'JG12 Tape nori 1.mat'\n",
    "# filename = 'JG14 Tape nori 0.mat'\n",
    "\n",
    "file_basename = '.'.join(os.path.basename(filename).split('.')[:-1])"
   ]
  },
  {
   "cell_type": "code",
   "execution_count": null,
   "metadata": {},
   "outputs": [],
   "source": [
    "# read the data file containing force and spike trains\n",
    "reader = neo.io.NeoMatlabIO(os.path.join(directory, filename))\n",
    "blk = reader.read_block()\n",
    "seg = blk.segments[0]\n",
    "sigs = {sig.name:sig for sig in seg.analogsignals}\n",
    "spiketrains = {st.name:st for st in seg.spiketrains}"
   ]
  },
  {
   "cell_type": "markdown",
   "metadata": {},
   "source": [
    "# Plot Empirical Force"
   ]
  },
  {
   "cell_type": "code",
   "execution_count": null,
   "metadata": {},
   "outputs": [],
   "source": [
    "# plot the swallowing force measured by the force transducer\n",
    "fig, ax = plt.subplots(1, 1, sharex=True, figsize=(8,4))\n",
    "ax.plot(sigs['Force'].times.rescale('s'), sigs['Force'].rescale('mN'), c=colors['Force'])\n",
    "ax.set_xlabel('Time (s)')\n",
    "ax.set_ylabel('Force (mN)')\n",
    "ax.set_title(file_basename)\n",
    "plt.tight_layout()"
   ]
  },
  {
   "cell_type": "markdown",
   "metadata": {},
   "source": [
    "# Model Parameters"
   ]
  },
  {
   "cell_type": "code",
   "execution_count": null,
   "metadata": {},
   "outputs": [],
   "source": [
    "# parameters for constructing the model\n",
    "# - model force = sum of scaled (weighted) firing rates + offset\n",
    "# - comment/uncomment an entry in firing_rate_params to exclude/include the unit (I2 muscle or motor neurons)\n",
    "# - weights can be positive or negative\n",
    "# - rate constants determine how quickly the effect of a unit builds and decays\n",
    "# - the model will be plotted below against the empirical force, both normalized by their peak values\n",
    "\n",
    "offset = 0\n",
    "\n",
    "# firing_rate_params = {\n",
    "# #     'I2':    {'weight': -0.002, 'rate_constant': 1},\n",
    "# #     'B8a/b': {'weight': 0.05,  'rate_constant': 1},\n",
    "#     'B3':    {'weight': 0.05,  'rate_constant': 1},\n",
    "#     'B6/B9': {'weight': 0.05,  'rate_constant': 0.5},\n",
    "#     'B38':   {'weight': 0.025, 'rate_constant': 1},\n",
    "# #     'B4/B5': {'weight': 0.05,  'rate_constant': 1},\n",
    "# }\n",
    "\n",
    "firing_rate_params = {\n",
    "#     'I2':    {'weight': -0.02, 'rate_constant': 1},\n",
    "#     'B8a/b': {'weight': 0.05,  'rate_constant': 1},\n",
    "    'B3':    {'weight': 0.05,  'rate_constant': 1},\n",
    "    'B6/B9': {'weight': 0.1,  'rate_constant': 0.5},\n",
    "    'B38':   {'weight': 0.05, 'rate_constant': 1},\n",
    "#     'B4/B5': {'weight': 0.05,  'rate_constant': 1},\n",
    "}"
   ]
  },
  {
   "cell_type": "markdown",
   "metadata": {},
   "source": [
    "# Generate Firing Rate Model"
   ]
  },
  {
   "cell_type": "code",
   "execution_count": null,
   "metadata": {},
   "outputs": [],
   "source": [
    "firing_rates = {}\n",
    "for name, params in firing_rate_params.items():\n",
    "    weight = params['weight']\n",
    "    rate_constant = params['rate_constant']\n",
    "\n",
    "    # convolve the spike train with the kernel\n",
    "    firing_rates[name] = instantaneous_rate(\n",
    "        spiketrain=spiketrains[name],\n",
    "        sampling_period=0.0002*pq.s,  # 5 kHz, same as data acquisition rate\n",
    "        kernel=CausalAlphaKernel(rate_constant*pq.s),\n",
    "    )\n",
    "    firing_rates[name].name = f'{name}\\nweight: {weight}\\nrate const: {rate_constant} sec'\n",
    "\n",
    "    # scale the firing rate by its weight\n",
    "    firing_rates[name] *= weight\n",
    "\n",
    "# create the model by summing the firing rates and adding the offset\n",
    "firing_rates['Model'] = None\n",
    "for name, params in firing_rate_params.items():\n",
    "    if firing_rates['Model'] is None:\n",
    "        firing_rates['Model'] = firing_rates[name].copy()\n",
    "    else:\n",
    "        firing_rates['Model'] += firing_rates[name]\n",
    "firing_rates['Model'] += offset*pq.Hz\n",
    "firing_rates['Model'].name = f'Model = Sum of\\nScaled Rates + {offset}'"
   ]
  },
  {
   "cell_type": "markdown",
   "metadata": {},
   "source": [
    "# Plot Model"
   ]
  },
  {
   "cell_type": "code",
   "execution_count": null,
   "metadata": {},
   "outputs": [],
   "source": [
    "# plot each spike train and the scaled (weighted) firing rate\n",
    "fig, axes = plt.subplots(len(firing_rates)+1, 1, sharex=True, figsize=(8,2*len(firing_rates)))\n",
    "for i, name in enumerate(firing_rates):\n",
    "    ax = axes[i]\n",
    "    if name in spiketrains:\n",
    "        ax.eventplot(positions=spiketrains[name], lineoffsets=-1, colors=colors[name])\n",
    "    ax.plot(firing_rates[name].times.rescale('s'), firing_rates[name].rescale('Hz'), c=colors[name])\n",
    "    ax.set_ylabel(firing_rates[name].name)\n",
    "    ax.set_ylim(-2, 3)\n",
    "\n",
    "# plot force and the model, both normalized by their peaks\n",
    "axes[-1].plot(sigs['Force'].times.rescale('s'), sigs['Force']/sigs['Force'].max(), c=colors['Force'])\n",
    "axes[-1].plot(firing_rates['Model'].times.rescale('s'), firing_rates['Model']/firing_rates['Model'].max(), c=colors['Model'])\n",
    "axes[-1].set_ylabel('Model vs. Force\\n(both normalized)')\n",
    "\n",
    "axes[-1].set_xlabel('Time (s)')\n",
    "axes[0].set_title(file_basename)\n",
    "plt.tight_layout()"
   ]
  },
  {
   "cell_type": "markdown",
   "metadata": {},
   "source": [
    "# Plot Model for Grant"
   ]
  },
  {
   "cell_type": "code",
   "execution_count": null,
   "metadata": {},
   "outputs": [],
   "source": [
    "# use with JG08 Tape nori 1\n",
    "time_slices = {\n",
    "    'I2':    [670.7, 680.83],\n",
    "    'B8a/b': [673.5, 679.59],\n",
    "    'B3':    [675.645, 680.83],\n",
    "    'B6/B9': [674.25, 680.83],\n",
    "    'B38':   [670.7, 680.83],\n",
    "    'Model': [672.26, 680.2],\n",
    "    'Force': [672.26, 680.2],\n",
    "}\n",
    "\n",
    "# plot each spike train and the scaled (weighted) firing rate\n",
    "fig, axes = plt.subplots(2*len(firing_rate_params)+1, 1, sharex=True, figsize=(6,len(firing_rate_params)*(16/17)+1*(20/17)), gridspec_kw={'height_ratios': [3, 1]*len(firing_rate_params) + [5]})\n",
    "for i, name in enumerate(firing_rate_params):\n",
    "    ax = axes[2*i]\n",
    "    fr = firing_rates[name]\n",
    "    st = spiketrains[name]\n",
    "    if name in time_slices:\n",
    "        fr = fr.copy().time_slice(time_slices[name][0]*pq.s, time_slices[name][1]*pq.s)\n",
    "        st = st.copy().time_slice(time_slices[name][0]*pq.s, time_slices[name][1]*pq.s)\n",
    "    ax.plot(fr.times.rescale('s'), fr.rescale('Hz'), c=colors[name])\n",
    "    ax.annotate(name, xy=(0, 0.5), xycoords='axes fraction',\n",
    "        ha='right', va='center', fontsize='large', color=colors[name], fontfamily='Serif',\n",
    "    )\n",
    "#     ax.set_ylim(0, 2.2)\n",
    "    ax.axis('off')\n",
    "    \n",
    "    ax = axes[2*i+1]\n",
    "    ax.eventplot(positions=st, lineoffsets=-1, colors=colors[name])\n",
    "    ax.axis('off')\n",
    "\n",
    "# plot force and the model, both normalized by their peaks\n",
    "force = sigs['Force'].copy().time_slice(time_slices['Force'][0]*pq.s, time_slices['Force'][1]*pq.s)\n",
    "model = firing_rates['Model'].time_slice(time_slices['Model'][0]*pq.s, time_slices['Model'][1]*pq.s)\n",
    "axes[-1].plot(force.times.rescale('s'), force/force.max(), c=colors['Force'])\n",
    "axes[-1].plot(model.times.rescale('s'), model/model.max(), c=colors['Model'])\n",
    "axes[-1].annotate('Model\\nvs.', xy=(-0.04, 0.6), xycoords='axes fraction',\n",
    "    ha='center', va='center', fontsize='large', color=colors['Model'], fontfamily='Serif',\n",
    ")\n",
    "axes[-1].annotate('Force', xy=(-0.04, 0.35), xycoords='axes fraction',\n",
    "    ha='center', va='center', fontsize='large', color=colors['Force'], fontfamily='Serif',\n",
    ")\n",
    "axes[-1].axis('off')\n",
    "\n",
    "plt.tight_layout(0)"
   ]
  },
  {
   "cell_type": "code",
   "execution_count": null,
   "metadata": {},
   "outputs": [],
   "source": []
  }
 ],
 "metadata": {
  "kernelspec": {
   "display_name": "Python 3",
   "language": "python",
   "name": "python3"
  },
  "language_info": {
   "codemirror_mode": {
    "name": "ipython",
    "version": 3
   },
   "file_extension": ".py",
   "mimetype": "text/x-python",
   "name": "python",
   "nbconvert_exporter": "python",
   "pygments_lexer": "ipython3",
   "version": "3.7.6"
  }
 },
 "nbformat": 4,
 "nbformat_minor": 2
}
