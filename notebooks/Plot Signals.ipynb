{
 "cells": [
  {
   "cell_type": "markdown",
   "metadata": {},
   "source": [
    "# Import Packages"
   ]
  },
  {
   "cell_type": "code",
   "execution_count": null,
   "metadata": {},
   "outputs": [],
   "source": [
    "import datetime\n",
    "import seaborn as sns\n",
    "import quantities as pq\n",
    "import neurotic\n",
    "from modules.plot_utils import plot_signals_with_axes\n",
    "\n",
    "pq.markup.config.use_unicode = True  # allow symbols like mu for micro in output\n",
    "pq.mN = pq.UnitQuantity('millinewton', pq.N/1e3, symbol = 'mN');  # define millinewton"
   ]
  },
  {
   "cell_type": "markdown",
   "metadata": {},
   "source": [
    "# IPython Magics"
   ]
  },
  {
   "cell_type": "code",
   "execution_count": null,
   "metadata": {},
   "outputs": [],
   "source": [
    "# make figures interactive and open in a separate window\n",
    "# %matplotlib qt\n",
    "\n",
    "# make figures interactive and inline\n",
    "%matplotlib notebook\n",
    "\n",
    "# make figures non-interactive and inline\n",
    "# %matplotlib inline"
   ]
  },
  {
   "cell_type": "markdown",
   "metadata": {},
   "source": [
    "# Data Parameters"
   ]
  },
  {
   "cell_type": "markdown",
   "metadata": {},
   "source": [
    "## For ShowCASE 2019 poster..."
   ]
  },
  {
   "cell_type": "code",
   "execution_count": null,
   "metadata": {},
   "outputs": [],
   "source": [
    "# Jade's colors\n",
    "i2_color  = '#0072BD' # MATLAB blue\n",
    "rn_color  = '#D95319' # MATLAB orange\n",
    "bn2_color = '#EDB120' # MATLAB yellow\n",
    "bn3_color = '#7E2F8E' # MATLAB purple\n",
    "force_color = '#666666' # dark gray\n",
    "\n",
    "kwargs = dict(\n",
    "    figsize = (14, 7),\n",
    "    majorticks = 5,\n",
    "    minorticks = 1,\n",
    "    ylabel_offset = -0.06,\n",
    ")"
   ]
  },
  {
   "cell_type": "code",
   "execution_count": null,
   "metadata": {},
   "outputs": [],
   "source": [
    "# FRESH FOOD\n",
    "\n",
    "outfile_basename = 'traces-fresh-food'\n",
    "data_set_name = 'IN VIVO / JG08 / 2018-06-25 / 001'\n",
    "t_start, t_stop = [1334, 1364] * pq.s # 30 sec\n",
    "plots = [\n",
    "    {'channel': 'I2',    'units': 'uV', 'ylim': [ -20,  20], 'decimation_factor':  10, 'color': i2_color},\n",
    "    {'channel': 'RN',    'units': 'uV', 'ylim': [-150, 150], 'decimation_factor':  10, 'color': rn_color},\n",
    "    {'channel': 'BN2',   'units': 'uV', 'ylim': [-180, 180], 'decimation_factor':  10, 'color': bn2_color},\n",
    "    {'channel': 'BN3',   'units': 'uV', 'ylim': [-120, 120], 'decimation_factor':  10, 'color': bn3_color},\n",
    "    {'channel': 'Force', 'units': 'mN', 'ylim': [ -10, 300], 'decimation_factor': 100, 'color': force_color},\n",
    "]"
   ]
  },
  {
   "cell_type": "code",
   "execution_count": null,
   "metadata": {},
   "outputs": [],
   "source": [
    "# TWO-PLY NORI\n",
    "\n",
    "outfile_basename = 'traces-two-ply-nori'\n",
    "data_set_name = 'IN VIVO / JG08 / 2018-06-25 / 001'\n",
    "t_start, t_stop = [3262, 3292] * pq.s # 30 sec\n",
    "plots = [\n",
    "    {'channel': 'I2',    'units': 'uV', 'ylim': [ -20,  20], 'decimation_factor':  10, 'color': i2_color},\n",
    "    {'channel': 'RN',    'units': 'uV', 'ylim': [-150, 150], 'decimation_factor':  10, 'color': rn_color},\n",
    "    {'channel': 'BN2',   'units': 'uV', 'ylim': [-180, 180], 'decimation_factor':  10, 'color': bn2_color},\n",
    "    {'channel': 'BN3',   'units': 'uV', 'ylim': [-120, 120], 'decimation_factor':  10, 'color': bn3_color},\n",
    "    {'channel': 'Force', 'units': 'mN', 'ylim': [ -10, 300], 'decimation_factor': 100, 'color': force_color},\n",
    "]"
   ]
  },
  {
   "cell_type": "code",
   "execution_count": null,
   "metadata": {},
   "outputs": [],
   "source": [
    "# TAPE NORI\n",
    "\n",
    "outfile_basename = 'traces-tape-nori'\n",
    "data_set_name = 'IN VIVO / JG08 / 2018-06-21 / 002'\n",
    "t_start, t_stop = [175, 205] * pq.s # 30 sec\n",
    "plots = [\n",
    "    {'channel': 'I2',    'units': 'uV', 'ylim': [ -30,  30], 'decimation_factor':  10, 'color': i2_color},\n",
    "    {'channel': 'RN',    'units': 'uV', 'ylim': [ -60,  60], 'decimation_factor':  10, 'color': rn_color},\n",
    "    {'channel': 'BN2',   'units': 'uV', 'ylim': [-120, 120], 'decimation_factor':  10, 'color': bn2_color},\n",
    "    {'channel': 'BN3',   'units': 'uV', 'ylim': [-150, 150], 'decimation_factor':  10, 'color': bn3_color},\n",
    "    {'channel': 'Force', 'units': 'mN', 'ylim': [ -10, 300], 'decimation_factor': 100, 'color': force_color},\n",
    "]"
   ]
  },
  {
   "cell_type": "code",
   "execution_count": null,
   "metadata": {},
   "outputs": [],
   "source": [
    "# REGULAR NORI\n",
    "\n",
    "outfile_basename = 'traces-regular-nori'\n",
    "data_set_name = 'IN VIVO / JG08 / 2018-06-21 / 001'\n",
    "t_start, t_stop = [2468, 2498] * pq.s # 30 sec\n",
    "plots = [\n",
    "    {'channel': 'I2',    'units': 'uV', 'ylim': [ -30,  30], 'decimation_factor':  10, 'color': i2_color},\n",
    "    {'channel': 'RN',    'units': 'uV', 'ylim': [ -60,  60], 'decimation_factor':  10, 'color': rn_color},\n",
    "    {'channel': 'BN2',   'units': 'uV', 'ylim': [-120, 120], 'decimation_factor':  10, 'color': bn2_color},\n",
    "    {'channel': 'BN3',   'units': 'uV', 'ylim': [-150, 150], 'decimation_factor':  10, 'color': bn3_color},\n",
    "    {'channel': 'Force', 'units': 'mN', 'ylim': [ -10, 300], 'decimation_factor': 100, 'color': force_color},\n",
    "]"
   ]
  },
  {
   "cell_type": "markdown",
   "metadata": {},
   "source": [
    "## For August 2019 committee meeting..."
   ]
  },
  {
   "cell_type": "code",
   "execution_count": null,
   "metadata": {},
   "outputs": [],
   "source": [
    "# BRAIN Initiative Grant 2019 colors\n",
    "i2_color  = '#FFAF14' # orange\n",
    "rn_color  = '#00CC64' # green\n",
    "bn2_color = '#4A72FF' # blue\n",
    "bn3_color = '#7E2F8E' # purple\n",
    "force_color = '#666666' # dark gray\n",
    "\n",
    "kwargs = dict(\n",
    "    figsize = (8, 3),\n",
    "    majorticks = 20,\n",
    "    minorticks = 10,\n",
    "    ylabel_offset = -0.08,\n",
    ")"
   ]
  },
  {
   "cell_type": "code",
   "execution_count": null,
   "metadata": {},
   "outputs": [],
   "source": [
    "# BRANCHY\n",
    "\n",
    "outfile_basename = 'force-branchy'\n",
    "data_set_name = 'IN VIVO / JG17 / 2019-08-20 / 004'\n",
    "t_start, t_stop = [196, 296] * pq.s # 100 sec\n",
    "plots = [\n",
    "#     {'channel': 'BN2',   'units': 'uV', 'ylim': [ -60,  60], 'decimation_factor':  10, 'color': bn2_color},\n",
    "#     {'channel': 'BN3',   'units': 'uV', 'ylim': [ -60,  60], 'decimation_factor':  10, 'color': bn3_color},\n",
    "    {'channel': 'Force', 'units': 'mN', 'ylim': [ -10, 350], 'decimation_factor': 100, 'color': force_color},\n",
    "]"
   ]
  },
  {
   "cell_type": "code",
   "execution_count": null,
   "metadata": {},
   "outputs": [],
   "source": [
    "# TWO-PLY NORI\n",
    "\n",
    "outfile_basename = 'force-two-ply'\n",
    "data_set_name = 'IN VIVO / JG17 / 2019-08-20 / 004'\n",
    "t_start, t_stop = [2689, 2789] * pq.s # 100 sec\n",
    "plots = [\n",
    "#     {'channel': 'BN2',   'units': 'uV', 'ylim': [ -60,  60], 'decimation_factor':  10, 'color': bn2_color},\n",
    "#     {'channel': 'BN3',   'units': 'uV', 'ylim': [ -60,  60], 'decimation_factor':  10, 'color': bn3_color},\n",
    "    {'channel': 'Force', 'units': 'mN', 'ylim': [ -10, 350], 'decimation_factor': 100, 'color': force_color},\n",
    "]"
   ]
  },
  {
   "cell_type": "code",
   "execution_count": null,
   "metadata": {},
   "outputs": [],
   "source": [
    "# TAPE NORI\n",
    "\n",
    "outfile_basename = 'force-tape-nori'\n",
    "data_set_name = 'IN VIVO / JG17 / 2019-08-17 / 001'\n",
    "t_start, t_stop = [3532, 3632] * pq.s # 100 sec\n",
    "plots = [\n",
    "#     {'channel': 'BN2',   'units': 'uV', 'ylim': [ -60,  60], 'decimation_factor':  10, 'color': bn2_color},\n",
    "#     {'channel': 'BN3',   'units': 'uV', 'ylim': [ -60,  60], 'decimation_factor':  10, 'color': bn3_color},\n",
    "    {'channel': 'Force', 'units': 'mN', 'ylim': [ -10, 350], 'decimation_factor': 100, 'color': force_color},\n",
    "]"
   ]
  },
  {
   "cell_type": "markdown",
   "metadata": {},
   "source": [
    "# Plot"
   ]
  },
  {
   "cell_type": "markdown",
   "metadata": {},
   "source": [
    "__IMPORTANT:__ Remember that the large number of points present in the vector graphics output formats (SVG, PDF) of these traces tend to bring most programs, including poster printer software, to a grinding halt. It is recommended for most applications, especially poster printing, to use a high resolution PNG or, if you prefer vector fonts, a combination of rasterized traces and vector labels constructed in Inkscape or Illustrator from a combination of PNG and SVG files."
   ]
  },
  {
   "cell_type": "code",
   "execution_count": null,
   "metadata": {},
   "outputs": [],
   "source": [
    "# load the data\n",
    "metadata = neurotic.MetadataSelector('../../data/metadata.yml')\n",
    "metadata.select(data_set_name)\n",
    "blk = neurotic.load_dataset(metadata)"
   ]
  },
  {
   "cell_type": "code",
   "execution_count": null,
   "metadata": {},
   "outputs": [],
   "source": [
    "# general plot settings\n",
    "sns.set(\n",
    "#     context = 'poster',\n",
    "    style = 'ticks',\n",
    "    font_scale = 1,\n",
    "    font = 'Palatino Linotype',\n",
    ")\n",
    "\n",
    "# with sns.plotting_context('poster', font_scale=0.5):\n",
    "with sns.plotting_context('notebook', font_scale=1):\n",
    "    start = datetime.datetime.now()\n",
    "    plot_signals_with_axes(blk, t_start, t_stop, plots, outfile_basename, **kwargs)\n",
    "    end = datetime.datetime.now()\n",
    "    print('render time:', end-start)"
   ]
  },
  {
   "cell_type": "code",
   "execution_count": null,
   "metadata": {},
   "outputs": [],
   "source": []
  }
 ],
 "metadata": {
  "kernelspec": {
   "display_name": "Python 3",
   "language": "python",
   "name": "python3"
  },
  "language_info": {
   "codemirror_mode": {
    "name": "ipython",
    "version": 3
   },
   "file_extension": ".py",
   "mimetype": "text/x-python",
   "name": "python",
   "nbconvert_exporter": "python",
   "pygments_lexer": "ipython3",
   "version": "3.7.6"
  }
 },
 "nbformat": 4,
 "nbformat_minor": 2
}
