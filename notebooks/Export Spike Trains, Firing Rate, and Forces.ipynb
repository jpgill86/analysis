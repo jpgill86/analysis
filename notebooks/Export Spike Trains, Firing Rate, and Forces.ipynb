{
 "cells": [
  {
   "cell_type": "code",
   "execution_count": null,
   "metadata": {},
   "outputs": [],
   "source": [
    "import os\n",
    "import numpy as np\n",
    "import quantities as pq\n",
    "import neo\n",
    "from neo.io.neomatlabio import NeoMatlabIO\n",
    "import neurotic\n",
    "from neurotic._elephant_tools import CausalAlphaKernel, instantaneous_rate"
   ]
  },
  {
   "cell_type": "code",
   "execution_count": null,
   "metadata": {},
   "outputs": [],
   "source": [
    "feeding_bouts_tape_nori = {\n",
    "    ('JG07', 'Tape nori',  0):           ('IN VIVO / JG07 / 2018-05-20 / 002', [2718, 2755  ]), # 5 swallows\n",
    "    ('JG08', 'Tape nori',  0):           ('IN VIVO / JG08 / 2018-06-21 / 002', [ 147,  208  ]), # 7 swallows, some bucket and head movement\n",
    "    ('JG08', 'Tape nori',  1):           ('IN VIVO / JG08 / 2018-06-21 / 002', [ 664,  701  ]), # 5 swallows, large bucket movement\n",
    "    ('JG08', 'Tape nori',  2):           ('IN VIVO / JG08 / 2018-06-21 / 002', [1451, 1477  ]), # 3 swallows, some bucket movement\n",
    "    ('JG11', 'Tape nori',  0):           ('IN VIVO / JG11 / 2019-04-03 / 004', [1227, 1280  ]), # 5 swallows, inward food movements had very low amplitude\n",
    "    ('JG12', 'Tape nori',  0):           ('IN VIVO / JG12 / 2019-05-10 / 002', [ 436,  465  ]), # 4 swallows\n",
    "    ('JG12', 'Tape nori',  1):           ('IN VIVO / JG12 / 2019-05-10 / 002', [2901, 2937  ]), # 5 swallows\n",
    "    ('JG14', 'Tape nori',  0):           ('IN VIVO / JG14 / 2019-07-29 / 004', [ 829,  870  ]), # 5 swallows\n",
    "    \n",
    "    ('JG08', 'Tape nori', '1 superset'): ('IN VIVO / JG08 / 2018-06-21 / 002', [ 659,  726.1]), # 9 swallows, large bucket movement, used for prior modeling attempts\n",
    "}"
   ]
  },
  {
   "cell_type": "code",
   "execution_count": null,
   "metadata": {},
   "outputs": [],
   "source": [
    "metadata = neurotic.MetadataSelector(file='../../data/metadata.yml')\n",
    "\n",
    "for (animal, food, bout_index), (data_set_name, time_window) in feeding_bouts_tape_nori.items():\n",
    "    \n",
    "    # load the metadata\n",
    "    metadata.select(data_set_name)\n",
    "    \n",
    "    # load the data, including performing spike detection\n",
    "    blk = neurotic.load_dataset(metadata, lazy=False)\n",
    "    \n",
    "    # slice the larger dataset down to just this swallowing bout\n",
    "    seg = blk.segments[0].time_slice(time_window[0]*pq.s, time_window[1]*pq.s)\n",
    "    \n",
    "    # create a new Neo Block which will be filled with data and then exported to MATLAB\n",
    "    new_blk = neo.Block(name=f'{animal} {food} {bout_index} -- \"{data_set_name}\", {time_window}')\n",
    "    new_blk.file_origin = metadata.abs_path('data_file')\n",
    "    new_seg = neo.Segment()\n",
    "    new_blk.segments.append(new_seg)\n",
    "    \n",
    "    # specify the kernel (alpha function) to convolve with each spike train\n",
    "    # for transforming them into a continuous firing rate representation\n",
    "    sigma = 1*pq.s\n",
    "    kernel = CausalAlphaKernel(sigma)\n",
    "    kernel_name = f'{kernel.__class__.__name__}({kernel.sigma.magnitude}*{kernel.sigma.dimensionality.string})'\n",
    "\n",
    "    # compute the firing rate for each spike train and store it in the new Neo Block\n",
    "    for st in seg.spiketrains:\n",
    "        sampling_period = seg.analogsignals[0].sampling_period.rescale('s')\n",
    "        firing_rate = instantaneous_rate(st, sampling_period, kernel)\n",
    "\n",
    "        firing_rate_times = firing_rate.times.rescale('s')    # fix time units\n",
    "        firing_rate_values = firing_rate.clip(0*pq.Hz, None)  # replace with 0 any negative values (caused by numerical imprecision)\n",
    "        firing_rate_sig = neo.AnalogSignal(\n",
    "            firing_rate_values,\n",
    "            t_start=firing_rate.t_start.rescale('s'),\n",
    "            sampling_rate=firing_rate.sampling_rate.rescale('Hz'),\n",
    "            name = f'{st.name} firing rate, {kernel_name}',\n",
    "            dtype='float32',\n",
    "        )\n",
    "\n",
    "        new_seg.analogsignals.append(firing_rate_sig)\n",
    "        new_seg.spiketrains.append(st)\n",
    "    \n",
    "    # get the empirical force measurement and store it in the new Neo Block\n",
    "    force_sig = next((sig for sig in seg.analogsignals if sig.name == 'Force'), None)\n",
    "    new_seg.analogsignals.append(force_sig)\n",
    "    \n",
    "    # write the new Neo Block to a MAT file\n",
    "    export_dir = 'spikes-firing-rates-and-forces'\n",
    "    if not os.path.exists(export_dir):\n",
    "        os.mkdir(export_dir)\n",
    "    filename = os.path.join(export_dir, f'{animal} {food} {bout_index}.mat')\n",
    "    w = NeoMatlabIO(filename)\n",
    "    w.write_block(new_blk)"
   ]
  },
  {
   "cell_type": "code",
   "execution_count": null,
   "metadata": {},
   "outputs": [],
   "source": []
  }
 ],
 "metadata": {
  "kernelspec": {
   "display_name": "Python 3",
   "language": "python",
   "name": "python3"
  },
  "language_info": {
   "codemirror_mode": {
    "name": "ipython",
    "version": 3
   },
   "file_extension": ".py",
   "mimetype": "text/x-python",
   "name": "python",
   "nbconvert_exporter": "python",
   "pygments_lexer": "ipython3",
   "version": "3.7.6"
  }
 },
 "nbformat": 4,
 "nbformat_minor": 2
}
