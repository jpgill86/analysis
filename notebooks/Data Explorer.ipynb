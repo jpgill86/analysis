{
 "cells": [
  {
   "cell_type": "markdown",
   "metadata": {},
   "source": [
    "# Import Packages"
   ]
  },
  {
   "cell_type": "code",
   "execution_count": null,
   "metadata": {},
   "outputs": [],
   "source": [
    "import quantities as pq\n",
    "import elephant\n",
    "\n",
    "import sys\n",
    "sys.path.append('..')\n",
    "from modules.datasets import safe_download, MetadataSelector, LoadAndPrepareData\n",
    "from modules.gui import EphyviewerConfigurator"
   ]
  },
  {
   "cell_type": "markdown",
   "metadata": {},
   "source": [
    "# Select Data Set"
   ]
  },
  {
   "cell_type": "markdown",
   "metadata": {},
   "source": [
    "The next cell will download `metadata.yml`, a file containing information about available data sets and how they should be loaded, prepared, and displayed, including:\n",
    "* locations of data files\n",
    "* filter parameters\n",
    "* amplitude windows for spike discrimination\n",
    "* video synchronization offset\n",
    "* plot ranges\n",
    "\n",
    "You can change these values to your liking. The file will only be downloaded if a copy isn't found locally to avoid overwritting local changes. If you want to redownload the file, you should delete your local copy first."
   ]
  },
  {
   "cell_type": "code",
   "execution_count": null,
   "metadata": {},
   "outputs": [],
   "source": [
    "# download the metadata YAML file if it isn't found locally\n",
    "# - you need to manually delete this file if you want to redownload it\n",
    "remote_metadata = 'ftp://slugcloud.case.edu/gill/Mirror of DynamicsHJC/Data/analysis/metadata.yml'\n",
    "safe_download(remote_metadata, '../../data/metadata.yml')"
   ]
  },
  {
   "cell_type": "markdown",
   "metadata": {},
   "source": [
    "The `MetadataSelector` allows you to view the names and descriptions of data sets listed in `metadata.yml` and to select the one you would like to work with. Each data set may contain multiple files, such as an electrophysiology data file and a video file. Here is the key for icons found at the left of each entry:<br/>\n",
    "&nbsp;&nbsp; ◆ &nbsp;&nbsp; all files can be found locally and none need to be downloaded<br/>\n",
    "&nbsp;&nbsp; ⬖ &nbsp;&nbsp; some files can be found locally and others cannot<br/>\n",
    "&nbsp;&nbsp; ◇ &nbsp;&nbsp; no files can be found locally and all need to be downloaded<br/>\n",
    "&nbsp;&nbsp;&nbsp; ! &nbsp;&nbsp;&nbsp; the `video_offset` parameter is not set, which can cause out-of-sync video playback"
   ]
  },
  {
   "cell_type": "code",
   "execution_count": null,
   "metadata": {},
   "outputs": [],
   "source": [
    "# choose a data set to explore\n",
    "metadata = MetadataSelector(\n",
    "    file='../../data/metadata.yml',\n",
    "    initial_selection='IN VIVO / JG08 / 2018-06-21 / 002',\n",
    ")\n",
    "display(metadata)"
   ]
  },
  {
   "cell_type": "markdown",
   "metadata": {},
   "source": [
    "The next cell will download all of the data files associated with the selected data set. A file will only be downloaded if a copy isn't found locally to avoid overwritting local changes. If you want to redownload a file, you should delete your local copy first."
   ]
  },
  {
   "cell_type": "code",
   "execution_count": null,
   "metadata": {},
   "outputs": [],
   "source": [
    "# download the data files if they aren't found locally\n",
    "# - you need to manually delete files if you want to redownload them\n",
    "metadata.download_all_data_files()"
   ]
  },
  {
   "cell_type": "markdown",
   "metadata": {},
   "source": [
    "# Load Data and Configure Ephyviewer"
   ]
  },
  {
   "cell_type": "markdown",
   "metadata": {},
   "source": [
    "The next cell will use the settings contained in `metadata.yml` for the selected data set to do the following:\n",
    "* read the electrophysiology data file\n",
    "* apply filters to signals\n",
    "* read annotations contained in CSV files\n",
    "* run a simple spike detection algorithm using amplitude windows\n",
    "* import spikes previously sorted by the `Spike Sorting` notebook\n",
    "* calculate rectified area under the curve (RAUC) time series for each signal\n",
    "\n",
    "When this is complete, a configuration widget will display that allows you to control which of the modular data viewers you would like the application to show. Click the \"Launch\" button to start up the application.\n",
    "\n",
    "__Each time a new data set is selected using the `MetadataSelector`, you must rerun this cell.__"
   ]
  },
  {
   "cell_type": "code",
   "execution_count": null,
   "metadata": {},
   "outputs": [],
   "source": [
    "# this cell must be rerun each time a new data set is selected above\n",
    "\n",
    "# lazy loading takes advantage of Neo's high performance RawIO classes,\n",
    "# which can read portions of files \"on demand\" to get just the data that\n",
    "# is needed for plotting the currently visible time span\n",
    "# - this decreases loading time and consumes much less memory, especially\n",
    "#   for large files\n",
    "# - to take advantage of these benefits, signal filtering, amplitude\n",
    "#   window spike discrimination, and rauc computation must be disabled\n",
    "# - spike markers on signals are currently incompatible with lazy loading\n",
    "lazy = True\n",
    "\n",
    "blk = LoadAndPrepareData(metadata, lazy=lazy)\n",
    "\n",
    "# compute rectified area under the curve (RAUC) for each signal\n",
    "# - these computations require loading the entire file now, so only\n",
    "#   perform them if we're not using lazy loading\n",
    "rauc_sigs = []\n",
    "if not lazy:\n",
    "    for sig in blk.segments[0].analogsignals:\n",
    "        rauc = elephant.signal_processing.rauc(sig, bin_duration = 0.1*pq.s)\n",
    "        rauc.name = sig.name + ' RAUC'\n",
    "        rauc_sigs.append(rauc)\n",
    "\n",
    "ephyviewer_config = EphyviewerConfigurator(metadata, blk, rauc_sigs, lazy)\n",
    "# ephyviewer_config.enable_all()\n",
    "display(ephyviewer_config)"
   ]
  },
  {
   "cell_type": "markdown",
   "metadata": {},
   "source": [
    "Executing the next cell is equivalent to pressing the \"Launch\" button and is provided for the convenience of running all cells in the notebook at once to start the application."
   ]
  },
  {
   "cell_type": "code",
   "execution_count": null,
   "metadata": {},
   "outputs": [],
   "source": [
    "# using the buttons above, select the viewers you'd like to see,\n",
    "# then either click \"Launch\" or run this cell\n",
    "ephyviewer_config.launch_ephyviewer()"
   ]
  },
  {
   "cell_type": "code",
   "execution_count": null,
   "metadata": {},
   "outputs": [],
   "source": []
  }
 ],
 "metadata": {
  "kernelspec": {
   "display_name": "Python 3",
   "language": "python",
   "name": "python3"
  },
  "language_info": {
   "codemirror_mode": {
    "name": "ipython",
    "version": 3
   },
   "file_extension": ".py",
   "mimetype": "text/x-python",
   "name": "python",
   "nbconvert_exporter": "python",
   "pygments_lexer": "ipython3",
   "version": "3.7.3"
  }
 },
 "nbformat": 4,
 "nbformat_minor": 2
}
