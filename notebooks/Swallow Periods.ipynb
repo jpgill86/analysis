{
 "cells": [
  {
   "cell_type": "markdown",
   "metadata": {},
   "source": [
    "# Import Packages"
   ]
  },
  {
   "cell_type": "code",
   "execution_count": null,
   "metadata": {},
   "outputs": [],
   "source": [
    "import numpy as np\n",
    "import matplotlib.pyplot as plt\n",
    "# from mpl_toolkits.mplot3d import Axes3D\n",
    "import seaborn as sns\n",
    "import quantities as pq\n",
    "# import elephant\n",
    "import pandas as pd\n",
    "# import statsmodels.api as sm\n",
    "# from sklearn.decomposition import PCA\n",
    "import neurotic\n",
    "# from modules.utils import BehaviorsDataFrame\n",
    "\n",
    "pq.markup.config.use_unicode = True  # allow symbols like mu for micro in output\n",
    "pq.mN = pq.UnitQuantity('millinewton', pq.N/1e3, symbol = 'mN');  # define millinewton"
   ]
  },
  {
   "cell_type": "markdown",
   "metadata": {},
   "source": [
    "# IPython Magics"
   ]
  },
  {
   "cell_type": "code",
   "execution_count": null,
   "metadata": {},
   "outputs": [],
   "source": [
    "# make figures interactive and open in a separate window\n",
    "# %matplotlib qt\n",
    "\n",
    "# make figures interactive and inline\n",
    "%matplotlib notebook\n",
    "\n",
    "# make figures non-interactive and inline\n",
    "# %matplotlib inline"
   ]
  },
  {
   "cell_type": "markdown",
   "metadata": {},
   "source": [
    "# Data Parameters"
   ]
  },
  {
   "cell_type": "code",
   "execution_count": null,
   "metadata": {},
   "outputs": [],
   "source": [
    "feeding_bouts = {\n",
    "    'Branchy fresh food': ('IN VIVO / JG17 / 2019-08-20 / 004', [ 100, 300]), #[ 196,  296]),\n",
    "    'Two-ply nori':       ('IN VIVO / JG17 / 2019-08-20 / 004', [2689, 2789]),\n",
    "    'Tape nori':          ('IN VIVO / JG17 / 2019-08-17 / 001', [3532, 3705]), #[3532, 3632]),\n",
    "}"
   ]
  },
  {
   "cell_type": "markdown",
   "metadata": {},
   "source": [
    "# Import and Plot the Data"
   ]
  },
  {
   "cell_type": "code",
   "execution_count": null,
   "metadata": {},
   "outputs": [],
   "source": [
    "sns.set(\n",
    "#     context = 'poster',\n",
    "    style = 'ticks',\n",
    "    font_scale = 1,\n",
    "    font = ['Palatino Linotype', 'serif'],\n",
    ")"
   ]
  },
  {
   "cell_type": "code",
   "execution_count": null,
   "metadata": {},
   "outputs": [],
   "source": [
    "# use Neo RawIO lazy loading to load much faster and using less memory\n",
    "# - with lazy=True, filtering parameters specified in metadata are ignored\n",
    "# - with lazy=True, loading via time_slice requires neo>=0.8.0\n",
    "lazy = True\n",
    "\n",
    "# load the metadata containing file paths\n",
    "metadata = neurotic.MetadataSelector(file='../../data/metadata.yml')\n",
    "\n",
    "last_data_set_name = None\n",
    "for (food), (data_set_name, time_window) in feeding_bouts.items():\n",
    "\n",
    "    # load the data\n",
    "    metadata.select(data_set_name)\n",
    "    if data_set_name is last_data_set_name:\n",
    "        # skip reloading the data if it's already in memory\n",
    "        pass\n",
    "    else:\n",
    "        blk = neurotic.load_dataset(metadata, lazy=lazy)\n",
    "    last_data_set_name = data_set_name\n",
    "    \n",
    "    # grab the epochs\n",
    "    peak_to_peak_force_epochs = next((ep for ep in blk.segments[0].epochs if ep.name == 'Peak-to-peak force period'), None)\n",
    "    b10_to_b10_epochs = next((ep for ep in blk.segments[0].epochs if ep.name == 'B10-to-B10 motor pattern period'), None)\n",
    "    assert peak_to_peak_force_epochs is not None\n",
    "    assert b10_to_b10_epochs is not None\n",
    "    \n",
    "    # filter epochs by time window\n",
    "    peak_to_peak_force_epochs = peak_to_peak_force_epochs.time_slice(time_window[0]*pq.s, time_window[1]*pq.s)\n",
    "    b10_to_b10_epochs = b10_to_b10_epochs.time_slice(time_window[0]*pq.s, time_window[1]*pq.s)\n",
    "    assert peak_to_peak_force_epochs.size == b10_to_b10_epochs.size\n",
    "    \n",
    "    # plot swallow durations\n",
    "    plt.figure(figsize=(4,4))\n",
    "    x = peak_to_peak_force_epochs.durations\n",
    "    y = b10_to_b10_epochs.durations\n",
    "    max_value = 15 #max(x.max().magnitude, y.max().magnitude)*1.1\n",
    "    plt.scatter(x, y, facecolors='none', edgecolors='r')\n",
    "    plt.plot([0, max_value], [0, max_value], ls=':', c='gray', zorder=0)\n",
    "    plt.xlim([0, max_value])\n",
    "    plt.ylim([0, max_value])\n",
    "    plt.xlabel('Swallow duration (s)\\nMeasured between force peaks')\n",
    "    plt.ylabel('Swallow duration (s)\\nMeasured between B10 burst starts')\n",
    "    plt.title(food)\n",
    "    plt.tight_layout()"
   ]
  },
  {
   "cell_type": "code",
   "execution_count": null,
   "metadata": {},
   "outputs": [],
   "source": []
  }
 ],
 "metadata": {
  "kernelspec": {
   "display_name": "Python 3",
   "language": "python",
   "name": "python3"
  },
  "language_info": {
   "codemirror_mode": {
    "name": "ipython",
    "version": 3
   },
   "file_extension": ".py",
   "mimetype": "text/x-python",
   "name": "python",
   "nbconvert_exporter": "python",
   "pygments_lexer": "ipython3",
   "version": "3.7.3"
  }
 },
 "nbformat": 4,
 "nbformat_minor": 2
}
