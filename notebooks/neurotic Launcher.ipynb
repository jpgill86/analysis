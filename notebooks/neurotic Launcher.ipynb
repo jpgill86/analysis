{
 "cells": [
  {
   "cell_type": "markdown",
   "metadata": {},
   "source": [
    "![neurotic logo][logo]\n",
    "\n",
    "# *neurotic*\n",
    "\n",
    "*Curate, visualize, annotate, and share your behavioral ephys data using Python*\n",
    "\n",
    "Check the [documentation][docs] for help with *neurotic*, including an [API reference guide][api] for the classes and functions used in this notebook.\n",
    "\n",
    "[api]:  https://neurotic.readthedocs.io/en/latest/api.html\n",
    "[docs]: https://neurotic.readthedocs.io/en/latest\n",
    "[logo]: https://raw.githubusercontent.com/jpgill86/neurotic/master/neurotic/gui/icons/img/neurotic-logo-150.png"
   ]
  },
  {
   "cell_type": "markdown",
   "metadata": {},
   "source": [
    "## Install Packages"
   ]
  },
  {
   "cell_type": "code",
   "execution_count": null,
   "metadata": {},
   "outputs": [],
   "source": [
    "# check whether neurotic is currently installed\n",
    "!pip show neurotic"
   ]
  },
  {
   "cell_type": "code",
   "execution_count": null,
   "metadata": {},
   "outputs": [],
   "source": [
    "# install the latest release version\n",
    "# !pip install -U neurotic\n",
    "\n",
    "# alternatively, install the latest development version\n",
    "# !pip install -U git+https://github.com/jpgill86/neurotic.git"
   ]
  },
  {
   "cell_type": "markdown",
   "metadata": {},
   "source": [
    "## Import Packages"
   ]
  },
  {
   "cell_type": "code",
   "execution_count": null,
   "metadata": {},
   "outputs": [],
   "source": [
    "import neurotic\n",
    "import quantities as pq"
   ]
  },
  {
   "cell_type": "markdown",
   "metadata": {},
   "source": [
    "## Select a Data Set"
   ]
  },
  {
   "cell_type": "markdown",
   "metadata": {},
   "source": [
    "The next cell will download `metadata.yml`, a file containing information about available data sets and how they should be loaded, prepared, and displayed, including:\n",
    "* locations of data files\n",
    "* video synchronization parameters\n",
    "* plot settings\n",
    "* filter parameters\n",
    "* amplitude windows for spike discrimination"
   ]
  },
  {
   "cell_type": "code",
   "execution_count": null,
   "metadata": {},
   "outputs": [],
   "source": [
    "# download the metadata file\n",
    "remote_metadata = 'ftp://slugcloud.case.edu/gill/Mirror of DynamicsHJC/Data/analysis/metadata.yml'\n",
    "neurotic.download(remote_metadata, '../../data/metadata.yml', overwrite_existing=False)"
   ]
  },
  {
   "cell_type": "markdown",
   "metadata": {},
   "source": [
    "The `MetadataSelectorWidget` allows you to view the names and descriptions of data sets listed in `metadata.yml` and to select the one you would like to work with. Each data set may contain multiple files, such as an electrophysiology data file and a video file. Here is the key for icons found at the left of each entry:<br/>\n",
    "&nbsp;&nbsp; ◆ &nbsp;&nbsp; all files can be found locally and none need to be downloaded<br/>\n",
    "&nbsp;&nbsp; ⬖ &nbsp;&nbsp; some files can be found locally and others cannot<br/>\n",
    "&nbsp;&nbsp; ◇ &nbsp;&nbsp; no files can be found locally and all need to be downloaded<br/>\n",
    "&nbsp;&nbsp;&nbsp; ! &nbsp;&nbsp;&nbsp; the `video_offset` parameter is not set, which can cause out-of-sync video playback"
   ]
  },
  {
   "cell_type": "code",
   "execution_count": null,
   "metadata": {},
   "outputs": [],
   "source": [
    "# choose a dataset to load\n",
    "metadata = neurotic.MetadataSelectorWidget(\n",
    "    file='../../data/metadata.yml',\n",
    "    initial_selection='IN VIVO / JG08 / 2018-06-21 / 002',\n",
    ")\n",
    "display(metadata)"
   ]
  },
  {
   "cell_type": "markdown",
   "metadata": {},
   "source": [
    "The next cell will download all of the data files associated with the selected data set. Unless `overwrite_existing=True`, a file will only be downloaded if a copy isn't found locally to avoid overwritting local changes."
   ]
  },
  {
   "cell_type": "code",
   "execution_count": null,
   "metadata": {},
   "outputs": [],
   "source": [
    "# download the data files\n",
    "metadata.download_all_data_files(overwrite_existing=False)"
   ]
  },
  {
   "cell_type": "markdown",
   "metadata": {},
   "source": [
    "## Load Data and Configure Ephyviewer"
   ]
  },
  {
   "cell_type": "markdown",
   "metadata": {},
   "source": [
    "The next cell will use the settings contained in `metadata.yml` for the selected data set to do the following:\n",
    "* read the electrophysiology data file\n",
    "* apply filters to signals (`lazy=False` only)\n",
    "* read annotations contained in CSV files\n",
    "* run a simple spike detection algorithm using amplitude windows (`lazy=False` only)\n",
    "* import spikes previously sorted by tridesclous\n",
    "* calculate firing rates (`lazy=False` only)\n",
    "* calculate rectified area under the curve (RAUC) time series for each signal (`lazy=False` only)\n",
    "\n",
    "When this is complete, a configuration widget will display that allows you to control which of the modular data viewers you would like the application to show. Click the \"Launch\" button to start up the application.\n",
    "\n",
    "__Each time a new data set is selected using the `MetadataSelectorWidget`, you must rerun this cell.__"
   ]
  },
  {
   "cell_type": "code",
   "execution_count": null,
   "metadata": {},
   "outputs": [],
   "source": [
    "# this cell must be rerun each time a new data set is selected above\n",
    "\n",
    "# lazy loading takes advantage of Neo's high performance RawIO classes,\n",
    "# which can read portions of files \"on demand\" to get just the data that\n",
    "# is needed for plotting the currently visible time span\n",
    "# - this decreases loading time and consumes much less memory, especially\n",
    "#   for large files\n",
    "# - to take advantage of these benefits, signal filtering, amplitude\n",
    "#   window spike discrimination, firing rate, and RAUC computation must\n",
    "#   be disabled\n",
    "# - spike markers on signals are currently incompatible with lazy loading\n",
    "lazy = False\n",
    "\n",
    "blk = neurotic.load_dataset(metadata, lazy=lazy)\n",
    "\n",
    "ephyviewer_config = neurotic.EphyviewerConfiguratorWidget(metadata, blk, lazy)\n",
    "# ephyviewer_config.show_all()\n",
    "display(ephyviewer_config)"
   ]
  },
  {
   "cell_type": "markdown",
   "metadata": {},
   "source": [
    "Executing the next cell is equivalent to pressing the \"Launch\" button and is provided for the convenience of running all cells in the notebook at once to start the application."
   ]
  },
  {
   "cell_type": "code",
   "execution_count": null,
   "metadata": {},
   "outputs": [],
   "source": [
    "# using the buttons above, select the viewers you'd like to see,\n",
    "# then either click \"Launch\" or run this cell\n",
    "ephyviewer_config.launch_ephyviewer()"
   ]
  },
  {
   "cell_type": "markdown",
   "metadata": {},
   "source": [
    "After launching, you should see something like the following:\n",
    "\n",
    "![example screenshot][screenshot]\n",
    "\n",
    "[screenshot]: https://raw.githubusercontent.com/jpgill86/neurotic/master/docs/_static/example-screenshot.png"
   ]
  },
  {
   "cell_type": "code",
   "execution_count": null,
   "metadata": {},
   "outputs": [],
   "source": []
  }
 ],
 "metadata": {
  "kernelspec": {
   "display_name": "Python 3",
   "language": "python",
   "name": "python3"
  },
  "language_info": {
   "codemirror_mode": {
    "name": "ipython",
    "version": 3
   },
   "file_extension": ".py",
   "mimetype": "text/x-python",
   "name": "python",
   "nbconvert_exporter": "python",
   "pygments_lexer": "ipython3",
   "version": "3.7.3"
  }
 },
 "nbformat": 4,
 "nbformat_minor": 2
}
