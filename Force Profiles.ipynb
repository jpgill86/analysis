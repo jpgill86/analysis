{
 "cells": [
  {
   "cell_type": "markdown",
   "metadata": {},
   "source": [
    "# Import Packages"
   ]
  },
  {
   "cell_type": "code",
   "execution_count": null,
   "metadata": {},
   "outputs": [],
   "source": [
    "################################################################################\n",
    "# NUMPY\n",
    "# conda install numpy\n",
    "\n",
    "import numpy as np\n",
    "\n",
    "################################################################################\n",
    "# MATPLOTLIB\n",
    "# conda install matplotlib\n",
    "\n",
    "import matplotlib.pyplot as plt\n",
    "\n",
    "################################################################################\n",
    "# NEO\n",
    "# pip install git+https://github.com/NeuralEnsemble/python-neo.git\n",
    "# - AxoGraph support requires axographio to be installed: pip install axographio\n",
    "\n",
    "# import neo\n",
    "\n",
    "################################################################################\n",
    "# QUANTITIES\n",
    "# conda install quantities\n",
    "\n",
    "import quantities as pq\n",
    "pq.markup.config.use_unicode = True  # allow symbols like mu for micro in output\n",
    "pq.mN = pq.UnitQuantity('millinewton', pq.N/1e3, symbol = 'mN');  # define millinewton\n",
    "\n",
    "################################################################################\n",
    "# ELEPHANT\n",
    "# pip install elephant\n",
    "\n",
    "import elephant\n",
    "\n",
    "################################################################################\n",
    "# PANDAS\n",
    "# conda install pandas\n",
    "\n",
    "import pandas as pd\n",
    "\n",
    "################################################################################\n",
    "# SPM1D - One-Dimensional Statistical Parametric Mapping\n",
    "# pip install spm1d\n",
    "\n",
    "import spm1d\n",
    "\n",
    "################################################################################\n",
    "# EPHYVIEWER\n",
    "# pip install git+https://github.com/jpgill86/ephyviewer.git@experimental\n",
    "# - requires PyAV: conda install -c conda-forge av\n",
    "\n",
    "# import ephyviewer\n",
    "\n",
    "################################################################################\n",
    "# ParseMetadata\n",
    "# - requires ipywidgets: conda install ipywidgets\n",
    "# - requires yaml:       conda install pyyaml\n",
    "\n",
    "from ParseMetadata import LoadMetadata\n",
    "\n",
    "################################################################################\n",
    "# ImportData\n",
    "\n",
    "from ImportData import LoadAndPrepareData\n",
    "\n",
    "################################################################################\n",
    "# NeoUtilities\n",
    "\n",
    "# from NeoUtilities import NeoAnalogSignalRAUC\n",
    "\n",
    "################################################################################\n",
    "# NeoToEphyviewerBridge\n",
    "\n",
    "# from NeoToEphyviewerBridge import NeoSegmentToEphyviewerSources#, PlotExampleWithEphyviewer"
   ]
  },
  {
   "cell_type": "markdown",
   "metadata": {},
   "source": [
    "# IPython Magics"
   ]
  },
  {
   "cell_type": "code",
   "execution_count": null,
   "metadata": {},
   "outputs": [],
   "source": [
    "# make figures interactive and open in a separate window\n",
    "# %matplotlib qt\n",
    "\n",
    "# make figures interactive and inline\n",
    "%matplotlib notebook\n",
    "\n",
    "# make figures non-interactive and inline\n",
    "# %matplotlib inline"
   ]
  },
  {
   "cell_type": "markdown",
   "metadata": {},
   "source": [
    "# Data Parameters"
   ]
  },
  {
   "cell_type": "code",
   "execution_count": null,
   "metadata": {},
   "outputs": [],
   "source": [
    "# specify the data sets to analyze\n",
    "data_sets = [\n",
    "    '2018-06-21_IN-VIVO_JG-08 002',\n",
    "    '2018-06-24_IN-VIVO_JG-08 001',\n",
    "]\n",
    "\n",
    "# load the metadata containing file paths\n",
    "all_metadata = LoadMetadata()\n",
    "\n",
    "# store metadata in a dictionary that we will add to later\n",
    "data = {}\n",
    "for data_set_name in data_sets:\n",
    "    data[data_set_name] = {}\n",
    "    data[data_set_name]['metadata'] = all_metadata[data_set_name]"
   ]
  },
  {
   "cell_type": "code",
   "execution_count": null,
   "metadata": {},
   "outputs": [],
   "source": [
    "# select which swallow sequences to use\n",
    "\n",
    "data['2018-06-21_IN-VIVO_JG-08 002']['time_windows_to_keep'] = [\n",
    "#     [-np.inf, np.inf], # keep everything\n",
    "    [659, 726.1], # tension maximized and no perturbation\n",
    "#     [666.95, 726.1], # tension maximized and no perturbation, and extra long large hump excluded\n",
    "]\n",
    "\n",
    "data['2018-06-24_IN-VIVO_JG-08 001']['time_windows_to_keep'] = [\n",
    "#     [-np.inf, np.inf], # keep everything\n",
    "    [2244.7, 2259.9], [2269.5, 2355.95], # tension maximized and no perturbation\n",
    "#     [2244.7, 2259.9], [2269.5, 2290.2], [2307, 2355.95], # tension maximized and no perturbation, and extra long large hump excluded\n",
    "]"
   ]
  },
  {
   "cell_type": "markdown",
   "metadata": {},
   "source": [
    "# Import the Data"
   ]
  },
  {
   "cell_type": "code",
   "execution_count": null,
   "metadata": {},
   "outputs": [],
   "source": [
    "for data_set_name, d in data.items():\n",
    "\n",
    "    # read in the data\n",
    "    blk = LoadAndPrepareData(d['metadata'])\n",
    "\n",
    "    # grab the force vs time data and rescale to mN\n",
    "    signalNameToAxoGraphIndex = {sig.name:i for i, sig in enumerate(blk.segments[0].analogsignals)}\n",
    "    force_idx = signalNameToAxoGraphIndex.get('Force', None)\n",
    "    assert(force_idx is not None)\n",
    "    d['force_sig'] = blk.segments[0].analogsignals[force_idx].rescale('mN')\n",
    "\n",
    "    # apply a super-low-pass filter to force signal\n",
    "    d['smoothed_force_sig'] = elephant.signal_processing.butter(  # may raise a FutureWarning\n",
    "        signal = d['force_sig'],\n",
    "        lowpass_freq = 0.5*pq.Hz,\n",
    "    )\n",
    "\n",
    "#     display(blk)"
   ]
  },
  {
   "cell_type": "code",
   "execution_count": null,
   "metadata": {},
   "outputs": [],
   "source": [
    "for data_set_name, d in data.items():\n",
    "    \n",
    "    # grab the output force timing data\n",
    "    epochs_df = pd.read_csv(d['metadata']['epoch_encoder_file'])\n",
    "    \n",
    "    # compute end times\n",
    "    epochs_df = epochs_df.assign(**{\n",
    "        'end': lambda e: e['time'] + e['duration'],\n",
    "    })\n",
    "    \n",
    "    # copy middle times (end of large hump and start of small hump) into 'force' epochs\n",
    "    for i, epoch in epochs_df[epochs_df['label'] == 'force'].iterrows():\n",
    "        for j, subepoch in epochs_df[epochs_df['label'] == 'large hump'].iterrows():\n",
    "            if subepoch['time'] >= epoch['time']-1e-7 and subepoch['end'] <= epoch['end']+1e-7:\n",
    "                epochs_df.loc[i, 'middle'] = subepoch['end']\n",
    "    \n",
    "    # find max forces in each epoch\n",
    "    for i, epoch in epochs_df[epochs_df['label'] == 'force'].iterrows():\n",
    "        epochs_df.loc[i,          'large max'] = max(         d['force_sig'].time_slice(epoch['time']  *pq.s, epoch['middle']*pq.s).magnitude)[0]\n",
    "        epochs_df.loc[i,          'small max'] = max(         d['force_sig'].time_slice(epoch['middle']*pq.s, epoch['end']   *pq.s).magnitude)[0]\n",
    "        epochs_df.loc[i, 'smoothed large max'] = max(d['smoothed_force_sig'].time_slice(epoch['time']  *pq.s, epoch['middle']*pq.s).magnitude)[0]\n",
    "        epochs_df.loc[i, 'smoothed small max'] = max(d['smoothed_force_sig'].time_slice(epoch['middle']*pq.s, epoch['end']   *pq.s).magnitude)[0]\n",
    "    \n",
    "    # drop all but 'force' rows\n",
    "    epochs_df = epochs_df[epochs_df['label'] == 'force']\n",
    "    \n",
    "    # keep only epochs that are entirely inside the time windows\n",
    "    epochs_df = epochs_df[np.any(list(map(lambda t: (t[0] <= epochs_df['time']) & (epochs_df['end'] <= t[1]), d['time_windows_to_keep'])), axis=0)]\n",
    "    \n",
    "    # colors\n",
    "    epochs_df = epochs_df.assign(colormap_arg = np.linspace(0, 1, len(epochs_df)))\n",
    "    \n",
    "    d['epochs_df'] = epochs_df\n",
    "    \n",
    "#     print(data_set_name)\n",
    "#     display(epochs_df)"
   ]
  },
  {
   "cell_type": "markdown",
   "metadata": {},
   "source": [
    "# Plots"
   ]
  },
  {
   "cell_type": "code",
   "execution_count": null,
   "metadata": {},
   "outputs": [],
   "source": [
    "# color map\n",
    "cm = plt.cm.cool\n",
    "# cm = plt.cm.brg\n",
    "# cm = plt.cm.RdBu\n",
    "\n",
    "# fig size in inches\n",
    "figsize = (9,3)"
   ]
  },
  {
   "cell_type": "markdown",
   "metadata": {},
   "source": [
    "##### Figure 1: Plot forces across real time"
   ]
  },
  {
   "cell_type": "code",
   "execution_count": null,
   "metadata": {},
   "outputs": [],
   "source": [
    "plt.figure(1, figsize=figsize)\n",
    "for i, data_set_name in enumerate(data_sets):\n",
    "    d = data[data_set_name]\n",
    "    plt.subplot(1, len(data), i+1)\n",
    "    plt.title(data_set_name)\n",
    "    plt.ylabel('Force (mN)')\n",
    "    plt.xlabel('Original chart time (s)')\n",
    "    for j, epoch in d['epochs_df'].iterrows():\n",
    "        epoch_force_sig = d['force_sig'].time_slice(epoch['time']*pq.s, epoch['end']*pq.s)\n",
    "        plt.plot(epoch_force_sig.times, epoch_force_sig.as_array(), color=cm(epoch['colormap_arg']))\n",
    "plt.tight_layout()"
   ]
  },
  {
   "cell_type": "markdown",
   "metadata": {},
   "source": [
    "##### Figure 2: Plot forces with aligned start times"
   ]
  },
  {
   "cell_type": "code",
   "execution_count": null,
   "metadata": {},
   "outputs": [],
   "source": [
    "plt.figure(2, figsize=figsize)\n",
    "for i, data_set_name in enumerate(data_sets):\n",
    "    d = data[data_set_name]\n",
    "    plt.subplot(1, len(data), i+1)\n",
    "    plt.title(data_set_name)\n",
    "    plt.ylabel('Force (mN)')\n",
    "    plt.xlabel('Zeroed time (s)')\n",
    "    for j, epoch in d['epochs_df'].iterrows():\n",
    "        epoch_force_sig = d['force_sig'].time_slice(epoch['time']*pq.s, epoch['end']*pq.s)\n",
    "        epoch_force_sig.t_start = 0*pq.s\n",
    "        plt.plot(epoch_force_sig.times, epoch_force_sig.as_array(), color=cm(epoch['colormap_arg']))"
   ]
  },
  {
   "cell_type": "markdown",
   "metadata": {},
   "source": [
    "##### Figure 3: Plot forces with uniformaly normalized time"
   ]
  },
  {
   "cell_type": "code",
   "execution_count": null,
   "metadata": {},
   "outputs": [],
   "source": [
    "plt.figure(3, figsize=figsize)\n",
    "for i, data_set_name in enumerate(data_sets):\n",
    "    d = data[data_set_name]\n",
    "    plt.subplot(1, len(data), i+1)\n",
    "    plt.title(data_set_name)\n",
    "    plt.ylabel('Force (mN)')\n",
    "    plt.xlabel('Uniformly normalized time')\n",
    "    for j, epoch in d['epochs_df'].iterrows():\n",
    "        epoch_force_sig = d['force_sig'].time_slice(epoch['time']*pq.s, epoch['end']*pq.s)\n",
    "        epoch_force_sig.t_start = 0*pq.s\n",
    "        epoch_force_sig.sampling_period = 1/len(epoch_force_sig.times)*pq.s\n",
    "        plt.plot(epoch_force_sig.times, epoch_force_sig.as_array(), color=cm(epoch['colormap_arg']))"
   ]
  },
  {
   "cell_type": "markdown",
   "metadata": {},
   "source": [
    "##### Figure 4: Plot normalized forces with uniformaly normalized time"
   ]
  },
  {
   "cell_type": "code",
   "execution_count": null,
   "metadata": {},
   "outputs": [],
   "source": [
    "plt.figure(4, figsize=figsize)\n",
    "for i, data_set_name in enumerate(data_sets):\n",
    "    d = data[data_set_name]\n",
    "    plt.subplot(1, len(data), i+1)\n",
    "    plt.title(data_set_name)\n",
    "    plt.ylabel('Normalized force')\n",
    "    plt.xlabel('Uniformly normalized time')\n",
    "    for j, epoch in d['epochs_df'].iterrows():\n",
    "        epoch_force_sig = d['force_sig'].time_slice(epoch['time']*pq.s, epoch['end']*pq.s) / epoch['smoothed large max']\n",
    "        epoch_force_sig.t_start = 0*pq.s\n",
    "        epoch_force_sig.sampling_period = 1/len(epoch_force_sig.times)*pq.s\n",
    "        plt.plot(epoch_force_sig.times, epoch_force_sig.as_array(), color=cm(epoch['colormap_arg']))"
   ]
  },
  {
   "cell_type": "markdown",
   "metadata": {},
   "source": [
    "##### Figure 5: Plot forces with time normalized separately for large and small humps"
   ]
  },
  {
   "cell_type": "code",
   "execution_count": null,
   "metadata": {},
   "outputs": [],
   "source": [
    "plt.figure(5, figsize=figsize)\n",
    "for i, data_set_name in enumerate(data_sets):\n",
    "    d = data[data_set_name]\n",
    "    plt.subplot(1, len(data), i+1)\n",
    "    plt.title(data_set_name)\n",
    "    plt.ylabel('Force (mN)')\n",
    "    plt.xlabel('Phase-dependent normalized time')\n",
    "    for j, epoch in d['epochs_df'].iterrows():\n",
    "        epoch_large_force_sig = d['force_sig'].time_slice(epoch['time']*pq.s, epoch['middle']*pq.s)\n",
    "        epoch_small_force_sig = d['force_sig'].time_slice(epoch['middle']*pq.s, epoch['end']*pq.s)\n",
    "        epoch_large_force_sig.t_start = 0*pq.s\n",
    "        epoch_small_force_sig.t_start = 1*pq.s\n",
    "        epoch_large_force_sig.sampling_period = 1/len(epoch_large_force_sig.times)*pq.s\n",
    "        epoch_small_force_sig.sampling_period = 1/len(epoch_small_force_sig.times)*pq.s\n",
    "        plt.plot(np.concatenate([epoch_large_force_sig.times, epoch_small_force_sig.times]), np.concatenate([epoch_large_force_sig.as_array(), epoch_small_force_sig.as_array()]), color=cm(epoch['colormap_arg']))"
   ]
  },
  {
   "cell_type": "markdown",
   "metadata": {},
   "source": [
    "##### Figure 6: Plot normalized forces with time normalized separately for large and small humps"
   ]
  },
  {
   "cell_type": "code",
   "execution_count": null,
   "metadata": {},
   "outputs": [],
   "source": [
    "plt.figure(6, figsize=figsize)\n",
    "for i, data_set_name in enumerate(data_sets):\n",
    "    d = data[data_set_name]\n",
    "    plt.subplot(1, len(data), i+1)\n",
    "    plt.title(data_set_name)\n",
    "    plt.ylabel('Normalized force')\n",
    "    plt.xlabel('Phase-dependent normalized time')\n",
    "    for j, epoch in d['epochs_df'].iterrows():\n",
    "        epoch_large_force_sig = d['force_sig'].time_slice(epoch['time']*pq.s, epoch['middle']*pq.s) / epoch['smoothed large max']\n",
    "        epoch_small_force_sig = d['force_sig'].time_slice(epoch['middle']*pq.s, epoch['end']*pq.s)  / epoch['smoothed large max']\n",
    "        epoch_large_force_sig.t_start = 0*pq.s\n",
    "        epoch_small_force_sig.t_start = 1*pq.s\n",
    "        epoch_large_force_sig.sampling_period = 1/len(epoch_large_force_sig.times)*pq.s\n",
    "        epoch_small_force_sig.sampling_period = 1/len(epoch_small_force_sig.times)*pq.s\n",
    "        plt.plot(np.concatenate([epoch_large_force_sig.times, epoch_small_force_sig.times]), np.concatenate([epoch_large_force_sig.as_array(), epoch_small_force_sig.as_array()]), color=cm(epoch['colormap_arg']))"
   ]
  },
  {
   "cell_type": "markdown",
   "metadata": {},
   "source": [
    "##### Figure 7: Reproduce Fig. 5 using interpolated data"
   ]
  },
  {
   "cell_type": "code",
   "execution_count": null,
   "metadata": {},
   "outputs": [],
   "source": [
    "# interpolate and resample the signals at regular intervals in preparation for averaging\n",
    "for data_set_name, d in data.items():\n",
    "\n",
    "    epoch_large_force_values = []\n",
    "    epoch_small_force_values = []\n",
    "    for i, epoch in d['epochs_df'].iterrows():\n",
    "        epoch_large_force_sig = d['force_sig'].time_slice(epoch['time']*pq.s, epoch['middle']*pq.s)\n",
    "        epoch_small_force_sig = d['force_sig'].time_slice(epoch['middle']*pq.s, epoch['end']*pq.s)\n",
    "        epoch_large_force_values.append(epoch_large_force_sig.as_array().flatten())\n",
    "        epoch_small_force_values.append(epoch_small_force_sig.as_array().flatten())\n",
    "\n",
    "    # number of points per curve before interpolation\n",
    "#     print([x.shape for x in epoch_large_force_values])\n",
    "#     print([x.shape for x in epoch_small_force_values])\n",
    "\n",
    "    # linear interpolation and resampling to n_samples data points\n",
    "    n_samples = 1000\n",
    "    epoch_large_force_values = spm1d.util.interp(epoch_large_force_values, Q=n_samples)\n",
    "    epoch_small_force_values = spm1d.util.interp(epoch_small_force_values, Q=n_samples)\n",
    "\n",
    "    # number of points per curve after interpolation\n",
    "#     print([x.shape for x in epoch_large_force_values])\n",
    "#     print([x.shape for x in epoch_small_force_values])\n",
    "\n",
    "    # combine large and small into unified time series\n",
    "    epoch_all_force_values = np.concatenate([epoch_large_force_values, epoch_small_force_values], axis=1)\n",
    "#     print(epoch_all_force_values.shape)\n",
    "\n",
    "    # evenly spaced time values from 0 to 2\n",
    "    times = np.linspace(0, 2, 2*n_samples)\n",
    "    \n",
    "    d['resampled_epoch_all_force_values'] = epoch_all_force_values\n",
    "    d['resampled_times'] = times"
   ]
  },
  {
   "cell_type": "code",
   "execution_count": null,
   "metadata": {},
   "outputs": [],
   "source": [
    "plt.figure(7, figsize=figsize)\n",
    "for i, data_set_name in enumerate(data_sets):\n",
    "    d = data[data_set_name]\n",
    "    plt.subplot(1, len(data), i+1)\n",
    "    plt.title(data_set_name)\n",
    "    plt.ylabel('Normalized force')\n",
    "    plt.xlabel('Phase-dependent normalized time')\n",
    "    for epoch, colormap_arg in zip(d['resampled_epoch_all_force_values'], d['epochs_df']['colormap_arg']):\n",
    "        plt.plot(d['resampled_times'], epoch, color=cm(colormap_arg))"
   ]
  },
  {
   "cell_type": "markdown",
   "metadata": {},
   "source": [
    "##### Figure 8: Plot mean and standard deviation cloud"
   ]
  },
  {
   "cell_type": "code",
   "execution_count": null,
   "metadata": {},
   "outputs": [],
   "source": [
    "plt.figure(8, figsize=figsize)\n",
    "for i, data_set_name in enumerate(data_sets):\n",
    "    d = data[data_set_name]\n",
    "    plt.subplot(1, len(data), i+1)\n",
    "    plt.title(data_set_name)\n",
    "    plt.ylabel('Normalized force')\n",
    "    plt.xlabel('Phase-dependent normalized time')\n",
    "    spm1d.plot.plot_mean_sd(d['resampled_epoch_all_force_values'])#, x=d['resampled_times'])\n",
    "\n",
    "#     # verify that spm1d.plot.plot_mean_sd does what I think it does\n",
    "#     mean = np.mean(d['resampled_epoch_all_force_values'], axis=0)\n",
    "#     std = np.std(d['resampled_epoch_all_force_values'], axis=0)\n",
    "#     plt.plot(mean, 'w:')\n",
    "#     plt.plot(mean+std, 'r:')\n",
    "#     plt.plot(mean-std, 'b:')"
   ]
  },
  {
   "cell_type": "markdown",
   "metadata": {},
   "source": [
    "##### Figure 9: Overlay mean and standard deviation cloud"
   ]
  },
  {
   "cell_type": "code",
   "execution_count": null,
   "metadata": {},
   "outputs": [],
   "source": [
    "plt.figure(9, figsize=tuple(np.array(figsize)*(0.5,1)))\n",
    "for i, data_set_name in enumerate(data_sets):\n",
    "    d = data[data_set_name]\n",
    "    plt.ylabel('Normalized force')\n",
    "    plt.xlabel('Phase-dependent normalized time')\n",
    "    spm1d.plot.plot_mean_sd(d['resampled_epoch_all_force_values'])#, x=d['resampled_times'])\n",
    "    \n",
    "#     # verify that spm1d.plot.plot_mean_sd does what I think it does\n",
    "#     mean = np.mean(d['resampled_epoch_all_force_values'], axis=0)\n",
    "#     std = np.std(d['resampled_epoch_all_force_values'], axis=0)\n",
    "#     plt.plot(mean, 'w:')\n",
    "#     plt.plot(mean+std, 'r:')\n",
    "#     plt.plot(mean-std, 'b:')"
   ]
  },
  {
   "cell_type": "code",
   "execution_count": null,
   "metadata": {},
   "outputs": [],
   "source": []
  }
 ],
 "metadata": {
  "kernelspec": {
   "display_name": "Python 3",
   "language": "python",
   "name": "python3"
  },
  "language_info": {
   "codemirror_mode": {
    "name": "ipython",
    "version": 3
   },
   "file_extension": ".py",
   "mimetype": "text/x-python",
   "name": "python",
   "nbconvert_exporter": "python",
   "pygments_lexer": "ipython3",
   "version": "3.6.6"
  }
 },
 "nbformat": 4,
 "nbformat_minor": 2
}
