{
 "cells": [
  {
   "cell_type": "markdown",
   "metadata": {},
   "source": [
    "# Import Packages"
   ]
  },
  {
   "cell_type": "code",
   "execution_count": null,
   "metadata": {},
   "outputs": [],
   "source": [
    "import quantities as pq\n",
    "import elephant\n",
    "\n",
    "# add the directory containing modules to the path\n",
    "import sys\n",
    "sys.path.append('../modules')\n",
    "\n",
    "from Downloads import safe_download\n",
    "from ParseMetadata import MetadataSelector, DownloadAllDataFiles\n",
    "from ImportData import LoadAndPrepareData\n",
    "from EphyviewerConfigurator import EphyviewerConfigurator"
   ]
  },
  {
   "cell_type": "markdown",
   "metadata": {},
   "source": [
    "# Select Data Set"
   ]
  },
  {
   "cell_type": "code",
   "execution_count": null,
   "metadata": {},
   "outputs": [],
   "source": [
    "# download the metadata YAML file\n",
    "remote_metadata = 'https://github.com/jpgill86/analysis/raw/master/example/metadata.yml'\n",
    "safe_download(remote_metadata, 'metadata.yml')"
   ]
  },
  {
   "cell_type": "code",
   "execution_count": null,
   "metadata": {},
   "outputs": [],
   "source": [
    "metadata = MetadataSelector()\n",
    "display(metadata)"
   ]
  },
  {
   "cell_type": "code",
   "execution_count": null,
   "metadata": {},
   "outputs": [],
   "source": [
    "DownloadAllDataFiles(metadata)"
   ]
  },
  {
   "cell_type": "markdown",
   "metadata": {},
   "source": [
    "# Import and Process the Data"
   ]
  },
  {
   "cell_type": "code",
   "execution_count": null,
   "metadata": {},
   "outputs": [],
   "source": [
    "blk, annotations_dataframe, epoch_encoder_dataframe, spikes_dataframe = LoadAndPrepareData(metadata)\n",
    "\n",
    "rauc_sigs = []\n",
    "for sig in blk.segments[0].analogsignals:\n",
    "    rauc = elephant.signal_processing.rauc(sig, bin_duration = 0.1*pq.s)\n",
    "    rauc.name = sig.name + ' RAUC'\n",
    "    rauc_sigs.append(rauc)\n",
    "\n",
    "# display(blk)\n",
    "# display(annotations_dataframe)\n",
    "# display(epoch_encoder_dataframe)\n",
    "# display(spikes_dataframe)"
   ]
  },
  {
   "cell_type": "markdown",
   "metadata": {},
   "source": [
    "# Configure and Launch Ephyviewer"
   ]
  },
  {
   "cell_type": "code",
   "execution_count": null,
   "metadata": {},
   "outputs": [],
   "source": [
    "ephyviewer_config = EphyviewerConfigurator(metadata.selected_metadata, blk, rauc_sigs, annotations_dataframe)\n",
    "ephyviewer_config.enable_all()\n",
    "display(ephyviewer_config)"
   ]
  },
  {
   "cell_type": "code",
   "execution_count": null,
   "metadata": {},
   "outputs": [],
   "source": [
    "# using the buttons above, select the viewers you'd like to see,\n",
    "# then either click \"Launch\" or run this cell\n",
    "ephyviewer_config.launch_ephyviewer(metadata, blk, rauc_sigs, annotations_dataframe)"
   ]
  },
  {
   "cell_type": "code",
   "execution_count": null,
   "metadata": {},
   "outputs": [],
   "source": []
  }
 ],
 "metadata": {
  "kernelspec": {
   "display_name": "Python 3",
   "language": "python",
   "name": "python3"
  },
  "language_info": {
   "codemirror_mode": {
    "name": "ipython",
    "version": 3
   },
   "file_extension": ".py",
   "mimetype": "text/x-python",
   "name": "python",
   "nbconvert_exporter": "python",
   "pygments_lexer": "ipython3",
   "version": "3.6.6"
  }
 },
 "nbformat": 4,
 "nbformat_minor": 2
}
